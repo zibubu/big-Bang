{
 "cells": [
  {
   "cell_type": "code",
   "execution_count": 4,
   "metadata": {},
   "outputs": [
    {
     "name": "stdout",
     "output_type": "stream",
     "text": [
      "Enter the number:-5\n",
      "Enter the positive number:\n",
      "Enter the number:-6\n",
      "Enter the positive number:\n",
      "Enter the number:21\n",
      "21 is not prime number.\n"
     ]
    }
   ],
   "source": [
    "key = 1\n",
    "while key == 1:\n",
    "    number = int(input('Enter the number:'))\n",
    "    if number < 0:\n",
    "        print('Enter the positive number:')\n",
    "    else:\n",
    "        key = 0\n",
    "        primenumber = True\n",
    "        if number == 1 or number ==0:\n",
    "            primenumber = False\n",
    "        for i in range(2,number):\n",
    "            if number%i == 0:\n",
    "                primenumber = False\n",
    "                break\n",
    "        if primenumber:\n",
    "            print(number,'is prime number.')\n",
    "        else:\n",
    "            print(number,'is not prime number.')"
   ]
  }
 ],
 "metadata": {
  "kernelspec": {
   "display_name": "Python 3",
   "language": "python",
   "name": "python3"
  },
  "language_info": {
   "codemirror_mode": {
    "name": "ipython",
    "version": 3
   },
   "file_extension": ".py",
   "mimetype": "text/x-python",
   "name": "python",
   "nbconvert_exporter": "python",
   "pygments_lexer": "ipython3",
   "version": "3.7.6"
  }
 },
 "nbformat": 4,
 "nbformat_minor": 4
}
