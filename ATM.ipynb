{
 "cells": [
  {
   "cell_type": "code",
   "execution_count": 8,
   "metadata": {},
   "outputs": [
    {
     "name": "stdout",
     "output_type": "stream",
     "text": [
      "Please enter your five-digit account number:1963\n",
      "Choose the action you want to do...\n",
      "* draw money = 1 ** deposit money = 2 *** check balance == 32\n",
      "Pablo Martin, you have 2000 $ in your account number=1963 and 1000 $ in your second number account.\n",
      "which account would you like to deposit your money? for main account = 1 -- second account = 22\n",
      "How much would you like to deposit?: 1250\n",
      "Pablo Martin, you have 2000 $ in your account number=1963 and 2250 $ in your second number account.\n"
     ]
    }
   ],
   "source": [
    "pabloAccount = {\n",
    "    'name': 'Pablo Martin',\n",
    "    'accountNumber': 1963,\n",
    "    'balance': 2000,\n",
    "    'secondAccountBalance': 1000\n",
    "}\n",
    "\n",
    "def drawMoney(account,amount):\n",
    "    print(f\"{account['name']}\")\n",
    "    \n",
    "    if (account['balance'] >= amount):\n",
    "        account['balance'] -= amount\n",
    "        print('Get your money...')\n",
    "    else:\n",
    "        total = account['balance'] + account['secondAccountBalance']\n",
    "        \n",
    "        if total >= amount:\n",
    "            useSecondAccount = int(input('Do you want to withdraw from second account? Yes=1 / No=0'))\n",
    "            if useSecondAccount == 1:\n",
    "                secondAccountAmount = (amount - account['balance'])\n",
    "                account['balance'] = 0\n",
    "                account['secondAccountBalance'] -= secondAccountAmount\n",
    "                print('Get your money...')\n",
    "            else:\n",
    "                print(f\"{account['name']}, you have {account['balance']} $ in your account number {account['accountNumber']}\")\n",
    "        else:\n",
    "            print('insufficient fund')\n",
    "def checkBalance(account):\n",
    "    print(f\"{account['name']}, you have {account['balance']} $ in your account number={account['accountNumber']} and {account['secondAccountBalance']} $ in your second number account.\")\n",
    "    \n",
    "user = int(input('Please enter your five-digit account number:'))\n",
    "if user == pabloAccount['accountNumber']:\n",
    "    print('Choose the action you want to do...')\n",
    "    action = int(input('* draw money = 1 ** deposit money = 2 *** check balance == 3'))\n",
    "    if action == 1:\n",
    "        checkBalance(pabloAccount)\n",
    "        withdraw = int(input('How much would you like to withraw? :'))\n",
    "        drawMoney(pabloAccount,withdraw)\n",
    "    elif action == 2:\n",
    "        checkBalance(pabloAccount)\n",
    "        whichone = int(input('which account would you like to deposit your money? for main account = 1 -- second account = 2'))\n",
    "        if whichone == 1:\n",
    "            draw = int(input('How much would you like to deposit?: '))\n",
    "            pabloAccount['balance'] += draw\n",
    "            checkBalance(pabloAccount)\n",
    "        elif whichone == 2:\n",
    "            draw = int(input('How much would you like to deposit?: '))\n",
    "            pabloAccount['secondAccountBalance'] += draw\n",
    "            checkBalance(pabloAccount)\n",
    "        else:\n",
    "            print('you entered wrong number...')\n",
    "    elif action == 3:\n",
    "        checkBalance(pabloAccount)\n",
    "    else:\n",
    "        print('you entered wrong number...')\n",
    "else:\n",
    "    print('you entered wrong account number...')"
   ]
  }
 ],
 "metadata": {
  "kernelspec": {
   "display_name": "Python 3",
   "language": "python",
   "name": "python3"
  },
  "language_info": {
   "codemirror_mode": {
    "name": "ipython",
    "version": 3
   },
   "file_extension": ".py",
   "mimetype": "text/x-python",
   "name": "python",
   "nbconvert_exporter": "python",
   "pygments_lexer": "ipython3",
   "version": "3.7.6"
  }
 },
 "nbformat": 4,
 "nbformat_minor": 4
}
