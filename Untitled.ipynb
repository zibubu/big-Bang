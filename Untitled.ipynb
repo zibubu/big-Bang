{
 "cells": [
  {
   "cell_type": "code",
   "execution_count": 4,
   "metadata": {},
   "outputs": [
    {
     "name": "stdout",
     "output_type": "stream",
     "text": [
      "Please, guess the number: 3\n",
      "Sorry, try increasing the number.\n",
      "Please, guess the number: 4\n",
      "Sorry, try increasing the number.\n",
      "Please, guess the number: 56\n",
      "Sorry, try decreasing the number.\n",
      "You are last chance broth.\n",
      "Please, guess the number: 5\n",
      "Sorry, try increasing the number.\n",
      "all the rights is done. The number was  9\n"
     ]
    }
   ],
   "source": [
    "import random\n",
    "number = (random.randint(1,10))\n",
    "rights=4\n",
    "\n",
    "while rights > 0:\n",
    "    rights-=1\n",
    "    guess = int(input('Please, guess the number: '))\n",
    "       \n",
    "    if number == guess:\n",
    "            print('Congratulations, you got it!')\n",
    "            break\n",
    "    elif number > guess:\n",
    "        if ((number - guess) <= 2):\n",
    "            print('You are very close.')\n",
    "        else:\n",
    "            print('Sorry, try increasing the number.')\n",
    "    else:\n",
    "        if ((guess - number) <= 2):\n",
    "            print('You are very close.')\n",
    "        else:\n",
    "            print('Sorry, try decreasing the number.')\n",
    "    if rights == 1:\n",
    "        print('You are last chance broth.')\n",
    "    if rights == 0:\n",
    "        print('all the rights is done. The number was ',number)"
   ]
  }
 ],
 "metadata": {
  "kernelspec": {
   "display_name": "Python 3",
   "language": "python",
   "name": "python3"
  },
  "language_info": {
   "codemirror_mode": {
    "name": "ipython",
    "version": 3
   },
   "file_extension": ".py",
   "mimetype": "text/x-python",
   "name": "python",
   "nbconvert_exporter": "python",
   "pygments_lexer": "ipython3",
   "version": "3.7.6"
  }
 },
 "nbformat": 4,
 "nbformat_minor": 4
}
